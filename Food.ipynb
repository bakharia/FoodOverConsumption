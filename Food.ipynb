{
  "nbformat": 4,
  "nbformat_minor": 0,
  "metadata": {
    "colab": {
      "name": "Food.ipynb",
      "provenance": [],
      "toc_visible": true,
      "authorship_tag": "ABX9TyOLMUKR1jaLLypW1x5E6tjG",
      "include_colab_link": true
    },
    "kernelspec": {
      "name": "python3",
      "display_name": "Python 3"
    }
  },
  "cells": [
    {
      "cell_type": "markdown",
      "metadata": {
        "id": "view-in-github",
        "colab_type": "text"
      },
      "source": [
        "<a href=\"https://colab.research.google.com/github/bakharia/FoodOverConsumption/blob/master/Food.ipynb\" target=\"_parent\"><img src=\"https://colab.research.google.com/assets/colab-badge.svg\" alt=\"Open In Colab\"/></a>"
      ]
    },
    {
      "cell_type": "markdown",
      "metadata": {
        "id": "H8HlMg0zYKhB",
        "colab_type": "text"
      },
      "source": [
        "# Data Sources\n",
        "*   https://ourworldindata.org/food-supply [csv file, calorie consumption from 1970 - 2013] \n",
        "*   https://www.cia.gov/library/publications/the-world-factbook/fields/341.html [population]\n",
        "*   https://health.gov/our-work/food-nutrition/2015-2020-dietary-guidelines/guidelines/appendix-2/ [recommeded cal]\n",
        "*   https://ourworldindata.org/obesity [obesity rates for different countries from 1975]\n",
        "\n",
        "\n",
        "\n",
        "\n"
      ]
    },
    {
      "cell_type": "markdown",
      "metadata": {
        "id": "UR6nfGEfo4BI",
        "colab_type": "text"
      },
      "source": [
        "#Libraries\n",
        "\n"
      ]
    },
    {
      "cell_type": "code",
      "metadata": {
        "id": "INLRHfaEo0Q8",
        "colab_type": "code",
        "colab": {}
      },
      "source": [
        "import pandas as pd\n",
        "import numpy as np\n",
        "import seaborn as sns\n",
        "import matplotlib.pyplot as plt"
      ],
      "execution_count": null,
      "outputs": []
    },
    {
      "cell_type": "markdown",
      "metadata": {
        "id": "JeFA_m4Jo282",
        "colab_type": "text"
      },
      "source": [
        "#Importing Data"
      ]
    },
    {
      "cell_type": "code",
      "metadata": {
        "id": "9_kbPs92pGcp",
        "colab_type": "code",
        "colab": {
          "base_uri": "https://localhost:8080/",
          "height": 386
        },
        "outputId": "b3916994-a617-4b52-cfbf-8397d7b02134"
      },
      "source": [
        "df = pd.read_csv('/content/daily-per-capita-caloric-supply.csv')\n",
        "df = df[df['Year'] > 1974]\n",
        "country_list = ['United States', 'India', 'United Kingdom']\n",
        "df = df[df['Entity'].isin(country_list)]\n",
        "df = df.reset_index(drop= True)\n",
        "sns.catplot(x=\"Year\", y=\" (kcal/person/day)\", hue=\"Entity\", kind=\"bar\", palette=\"gray\",data=df[df['Year'] > 2009])"
      ],
      "execution_count": null,
      "outputs": [
        {
          "output_type": "execute_result",
          "data": {
            "text/plain": [
              "<seaborn.axisgrid.FacetGrid at 0x7f0ceafced30>"
            ]
          },
          "metadata": {
            "tags": []
          },
          "execution_count": 51
        },
        {
          "output_type": "display_data",
          "data": {
            "image/png": "[encoded data removed]",
            "text/plain": [
              "<Figure size 476.25x360 with 1 Axes>"
            ]
          },
          "metadata": {
            "tags": [],
            "needs_background": "light"
          }
        }
      ]
    },
    {
      "cell_type": "markdown",
      "metadata": {
        "id": "MDvWhj2NGXjJ",
        "colab_type": "text"
      },
      "source": [
        "#Manipulating the data\n",
        "\n",
        "Taking weighted mean of recommended calorie consumption as per 'https://health.gov/our-work/food-nutrition/2015-2020-dietary-guidelines/guidelines/appendix-2/ ' based on ratio of the population in the age group 25-54 years "
      ]
    },
    {
      "cell_type": "code",
      "metadata": {
        "id": "P5itvSCRGVav",
        "colab_type": "code",
        "colab": {
          "base_uri": "https://localhost:8080/",
          "height": 204
        },
        "outputId": "fecc1fc2-3d8a-41b9-865d-b667d7e38a55"
      },
      "source": [
        "average_calorie = {\n",
        "    'India' : 2279,\n",
        "    'United States' : 2267,\n",
        "    'United Kingdom' : 2280\n",
        "}\n",
        "for c in country_list:\n",
        "  df.loc[df['Entity'] == c,' (kcal/person/day)'] = (df.loc[df['Entity'] == c,' (kcal/person/day)'] - (average_calorie[c]))/(df.loc[df['Entity'] == c,' (kcal/person/day)']*0.01)\n",
        "df = df.rename(columns= {\" (kcal/person/day)\": \"kcal/person/day% above recommended\"})\n",
        "df.head()"
      ],
      "execution_count": null,
      "outputs": [
        {
          "output_type": "execute_result",
          "data": {
            "text/html": [
              "<div>\n",
              "<style scoped>\n",
              "    .dataframe tbody tr th:only-of-type {\n",
              "        vertical-align: middle;\n",
              "    }\n",
              "\n",
              "    .dataframe tbody tr th {\n",
              "        vertical-align: top;\n",
              "    }\n",
              "\n",
              "    .dataframe thead th {\n",
              "        text-align: right;\n",
              "    }\n",
              "</style>\n",
              "<table border=\"1\" class=\"dataframe\">\n",
              "  <thead>\n",
              "    <tr style=\"text-align: right;\">\n",
              "      <th></th>\n",
              "      <th>Entity</th>\n",
              "      <th>Code</th>\n",
              "      <th>Year</th>\n",
              "      <th>kcal/person/day% above recommended</th>\n",
              "    </tr>\n",
              "  </thead>\n",
              "  <tbody>\n",
              "    <tr>\n",
              "      <th>0</th>\n",
              "      <td>India</td>\n",
              "      <td>IND</td>\n",
              "      <td>1975</td>\n",
              "      <td>-10.631068</td>\n",
              "    </tr>\n",
              "    <tr>\n",
              "      <th>1</th>\n",
              "      <td>India</td>\n",
              "      <td>IND</td>\n",
              "      <td>1976</td>\n",
              "      <td>-18.512741</td>\n",
              "    </tr>\n",
              "    <tr>\n",
              "      <th>2</th>\n",
              "      <td>India</td>\n",
              "      <td>IND</td>\n",
              "      <td>1977</td>\n",
              "      <td>-8.214625</td>\n",
              "    </tr>\n",
              "    <tr>\n",
              "      <th>3</th>\n",
              "      <td>India</td>\n",
              "      <td>IND</td>\n",
              "      <td>1978</td>\n",
              "      <td>-6.098696</td>\n",
              "    </tr>\n",
              "    <tr>\n",
              "      <th>4</th>\n",
              "      <td>India</td>\n",
              "      <td>IND</td>\n",
              "      <td>1979</td>\n",
              "      <td>-12.543210</td>\n",
              "    </tr>\n",
              "  </tbody>\n",
              "</table>\n",
              "</div>"
            ],
            "text/plain": [
              "  Entity Code  Year  kcal/person/day% above recommended\n",
              "0  India  IND  1975                          -10.631068\n",
              "1  India  IND  1976                          -18.512741\n",
              "2  India  IND  1977                           -8.214625\n",
              "3  India  IND  1978                           -6.098696\n",
              "4  India  IND  1979                          -12.543210"
            ]
          },
          "metadata": {
            "tags": []
          },
          "execution_count": 4
        }
      ]
    },
    {
      "cell_type": "markdown",
      "metadata": {
        "id": "4VUJy0AwUNYu",
        "colab_type": "text"
      },
      "source": [
        "# Representation"
      ]
    },
    {
      "cell_type": "code",
      "metadata": {
        "id": "0IdUw2jMR-VB",
        "colab_type": "code",
        "colab": {
          "base_uri": "https://localhost:8080/",
          "height": 386
        },
        "outputId": "3f95d486-d400-422f-ca68-ea687ac8fc37"
      },
      "source": [
        "sns.catplot(x=\"Year\", y=\"kcal/person/day% above recommended\", hue=\"Entity\", kind=\"bar\", palette=\"gray\",data=df[df['Year'] > 2009])"
      ],
      "execution_count": null,
      "outputs": [
        {
          "output_type": "execute_result",
          "data": {
            "text/plain": [
              "<seaborn.axisgrid.FacetGrid at 0x7f0cf1f67668>"
            ]
          },
          "metadata": {
            "tags": []
          },
          "execution_count": 5
        },
        {
          "output_type": "display_data",
          "data": {
            "image/png": "[encoded data removed]",
            "text/plain": [
              "<Figure size 476.25x360 with 1 Axes>"
            ]
          },
          "metadata": {
            "tags": [],
            "needs_background": "light"
          }
        }
      ]
    },
    {
      "cell_type": "markdown",
      "metadata": {
        "id": "zXSzjA2ifGFc",
        "colab_type": "text"
      },
      "source": [
        "# Obseity Rates for different country"
      ]
    },
    {
      "cell_type": "code",
      "metadata": {
        "id": "LbjBtuqyfL2G",
        "colab_type": "code",
        "colab": {}
      },
      "source": [
        "ob_df = pd.read_csv('/content/share-of-adults-who-are-overweight.csv')\n",
        "cal_df = pd.read_csv('/content/daily-per-capita-caloric-supply.csv')"
      ],
      "execution_count": null,
      "outputs": []
    },
    {
      "cell_type": "markdown",
      "metadata": {
        "id": "E58WFd2Bh5Dt",
        "colab_type": "text"
      },
      "source": [
        "Filtering Data"
      ]
    },
    {
      "cell_type": "code",
      "metadata": {
        "id": "LcwJ4N3ijKjF",
        "colab_type": "code",
        "colab": {}
      },
      "source": [
        "ob_df = ob_df[(ob_df['Entity'].isin(country_list))] #Filtering countries\n",
        "ob_df = ob_df[(ob_df['Year'] > 1974) & (ob_df['Year'] < 2014)] #Filtering by year\n",
        "ob_df = ob_df.reset_index(drop= True)\n",
        "ob_df = ob_df.set_index('Year', drop = True)\n",
        "ob_df = ob_df.sort_index()\n",
        "\n",
        "cal_df = cal_df[(cal_df['Entity'].isin(country_list))] #Filtering countries\n",
        "cal_df = cal_df[(cal_df['Year'] > 1974) & (cal_df['Year'] < 2014)] #Filtering by year\n",
        "cal_df = cal_df.reset_index(drop = True)\n",
        "cal_df = cal_df.set_index('Year', drop = True)\n",
        "cal_df = cal_df.sort_index()"
      ],
      "execution_count": null,
      "outputs": []
    },
    {
      "cell_type": "markdown",
      "metadata": {
        "id": "zQCIiGEEh_a7",
        "colab_type": "text"
      },
      "source": [
        "Deriving Result"
      ]
    },
    {
      "cell_type": "code",
      "metadata": {
        "id": "jnKMRIuBlk6U",
        "colab_type": "code",
        "colab": {
          "base_uri": "https://localhost:8080/",
          "height": 1000
        },
        "outputId": "c732a47c-8376-4b22-be00-7a2eb1de49ad"
      },
      "source": [
        "result = pd.merge(ob_df,cal_df,how= \"outer\", on = ['Year', 'Entity', 'Code'])\n",
        "\n",
        "oc_df = df.set_index('Year', drop = True)\n",
        "oc_df = oc_df.sort_index()\n",
        "\n",
        "result = pd.merge(result,oc_df,how= \"outer\", on = ['Year', 'Entity', 'Code'])\n",
        "result = result[result.index > 1999]\n",
        "result = result.reset_index()\n",
        "result['Year'] %= 2000\n",
        "result = result.rename(columns={'Year' : 'Year in 20xx'})\n",
        "result"
      ],
      "execution_count": null,
      "outputs": [
        {
          "output_type": "execute_result",
          "data": {
            "text/html": [
              "<div>\n",
              "<style scoped>\n",
              "    .dataframe tbody tr th:only-of-type {\n",
              "        vertical-align: middle;\n",
              "    }\n",
              "\n",
              "    .dataframe tbody tr th {\n",
              "        vertical-align: top;\n",
              "    }\n",
              "\n",
              "    .dataframe thead th {\n",
              "        text-align: right;\n",
              "    }\n",
              "</style>\n",
              "<table border=\"1\" class=\"dataframe\">\n",
              "  <thead>\n",
              "    <tr style=\"text-align: right;\">\n",
              "      <th></th>\n",
              "      <th>Year in 20xx</th>\n",
              "      <th>Entity</th>\n",
              "      <th>Code</th>\n",
              "      <th>Share of adults that are overweight (%)</th>\n",
              "      <th>(kcal/person/day)</th>\n",
              "      <th>kcal/person/day% above recommended</th>\n",
              "    </tr>\n",
              "  </thead>\n",
              "  <tbody>\n",
              "    <tr>\n",
              "      <th>0</th>\n",
              "      <td>0</td>\n",
              "      <td>United States</td>\n",
              "      <td>USA</td>\n",
              "      <td>60.1</td>\n",
              "      <td>3755.0</td>\n",
              "      <td>39.627164</td>\n",
              "    </tr>\n",
              "    <tr>\n",
              "      <th>1</th>\n",
              "      <td>0</td>\n",
              "      <td>United Kingdom</td>\n",
              "      <td>GBR</td>\n",
              "      <td>57.5</td>\n",
              "      <td>3362.0</td>\n",
              "      <td>32.183224</td>\n",
              "    </tr>\n",
              "    <tr>\n",
              "      <th>2</th>\n",
              "      <td>0</td>\n",
              "      <td>India</td>\n",
              "      <td>IND</td>\n",
              "      <td>11.4</td>\n",
              "      <td>2380.0</td>\n",
              "      <td>4.243697</td>\n",
              "    </tr>\n",
              "    <tr>\n",
              "      <th>3</th>\n",
              "      <td>1</td>\n",
              "      <td>United States</td>\n",
              "      <td>USA</td>\n",
              "      <td>60.9</td>\n",
              "      <td>3707.0</td>\n",
              "      <td>38.845428</td>\n",
              "    </tr>\n",
              "    <tr>\n",
              "      <th>4</th>\n",
              "      <td>1</td>\n",
              "      <td>United Kingdom</td>\n",
              "      <td>GBR</td>\n",
              "      <td>58.2</td>\n",
              "      <td>3400.0</td>\n",
              "      <td>32.941176</td>\n",
              "    </tr>\n",
              "    <tr>\n",
              "      <th>5</th>\n",
              "      <td>1</td>\n",
              "      <td>India</td>\n",
              "      <td>IND</td>\n",
              "      <td>11.8</td>\n",
              "      <td>2333.0</td>\n",
              "      <td>2.314616</td>\n",
              "    </tr>\n",
              "    <tr>\n",
              "      <th>6</th>\n",
              "      <td>2</td>\n",
              "      <td>United States</td>\n",
              "      <td>USA</td>\n",
              "      <td>61.7</td>\n",
              "      <td>3783.0</td>\n",
              "      <td>40.074015</td>\n",
              "    </tr>\n",
              "    <tr>\n",
              "      <th>7</th>\n",
              "      <td>2</td>\n",
              "      <td>United Kingdom</td>\n",
              "      <td>GBR</td>\n",
              "      <td>58.8</td>\n",
              "      <td>3416.0</td>\n",
              "      <td>33.255269</td>\n",
              "    </tr>\n",
              "    <tr>\n",
              "      <th>8</th>\n",
              "      <td>2</td>\n",
              "      <td>India</td>\n",
              "      <td>IND</td>\n",
              "      <td>12.2</td>\n",
              "      <td>2285.0</td>\n",
              "      <td>0.262582</td>\n",
              "    </tr>\n",
              "    <tr>\n",
              "      <th>9</th>\n",
              "      <td>3</td>\n",
              "      <td>United States</td>\n",
              "      <td>USA</td>\n",
              "      <td>62.4</td>\n",
              "      <td>3777.0</td>\n",
              "      <td>39.978819</td>\n",
              "    </tr>\n",
              "    <tr>\n",
              "      <th>10</th>\n",
              "      <td>3</td>\n",
              "      <td>United Kingdom</td>\n",
              "      <td>GBR</td>\n",
              "      <td>59.5</td>\n",
              "      <td>3400.0</td>\n",
              "      <td>32.941176</td>\n",
              "    </tr>\n",
              "    <tr>\n",
              "      <th>11</th>\n",
              "      <td>3</td>\n",
              "      <td>India</td>\n",
              "      <td>IND</td>\n",
              "      <td>12.6</td>\n",
              "      <td>2282.0</td>\n",
              "      <td>0.131464</td>\n",
              "    </tr>\n",
              "    <tr>\n",
              "      <th>12</th>\n",
              "      <td>4</td>\n",
              "      <td>United States</td>\n",
              "      <td>USA</td>\n",
              "      <td>63.1</td>\n",
              "      <td>3809.0</td>\n",
              "      <td>40.483066</td>\n",
              "    </tr>\n",
              "    <tr>\n",
              "      <th>13</th>\n",
              "      <td>4</td>\n",
              "      <td>India</td>\n",
              "      <td>IND</td>\n",
              "      <td>13.0</td>\n",
              "      <td>2256.0</td>\n",
              "      <td>-1.019504</td>\n",
              "    </tr>\n",
              "    <tr>\n",
              "      <th>14</th>\n",
              "      <td>4</td>\n",
              "      <td>United Kingdom</td>\n",
              "      <td>GBR</td>\n",
              "      <td>60.1</td>\n",
              "      <td>3445.0</td>\n",
              "      <td>33.817126</td>\n",
              "    </tr>\n",
              "    <tr>\n",
              "      <th>15</th>\n",
              "      <td>5</td>\n",
              "      <td>India</td>\n",
              "      <td>IND</td>\n",
              "      <td>13.5</td>\n",
              "      <td>2270.0</td>\n",
              "      <td>-0.396476</td>\n",
              "    </tr>\n",
              "    <tr>\n",
              "      <th>16</th>\n",
              "      <td>5</td>\n",
              "      <td>United States</td>\n",
              "      <td>USA</td>\n",
              "      <td>63.8</td>\n",
              "      <td>3828.0</td>\n",
              "      <td>40.778474</td>\n",
              "    </tr>\n",
              "    <tr>\n",
              "      <th>17</th>\n",
              "      <td>5</td>\n",
              "      <td>United Kingdom</td>\n",
              "      <td>GBR</td>\n",
              "      <td>60.7</td>\n",
              "      <td>3438.0</td>\n",
              "      <td>33.682373</td>\n",
              "    </tr>\n",
              "    <tr>\n",
              "      <th>18</th>\n",
              "      <td>6</td>\n",
              "      <td>India</td>\n",
              "      <td>IND</td>\n",
              "      <td>13.9</td>\n",
              "      <td>2334.0</td>\n",
              "      <td>2.356470</td>\n",
              "    </tr>\n",
              "    <tr>\n",
              "      <th>19</th>\n",
              "      <td>6</td>\n",
              "      <td>United States</td>\n",
              "      <td>USA</td>\n",
              "      <td>64.4</td>\n",
              "      <td>3783.0</td>\n",
              "      <td>40.074015</td>\n",
              "    </tr>\n",
              "    <tr>\n",
              "      <th>20</th>\n",
              "      <td>6</td>\n",
              "      <td>United Kingdom</td>\n",
              "      <td>GBR</td>\n",
              "      <td>61.3</td>\n",
              "      <td>3438.0</td>\n",
              "      <td>33.682373</td>\n",
              "    </tr>\n",
              "    <tr>\n",
              "      <th>21</th>\n",
              "      <td>7</td>\n",
              "      <td>India</td>\n",
              "      <td>IND</td>\n",
              "      <td>14.4</td>\n",
              "      <td>2400.0</td>\n",
              "      <td>5.041667</td>\n",
              "    </tr>\n",
              "    <tr>\n",
              "      <th>22</th>\n",
              "      <td>7</td>\n",
              "      <td>United States</td>\n",
              "      <td>USA</td>\n",
              "      <td>65.1</td>\n",
              "      <td>3757.0</td>\n",
              "      <td>39.659303</td>\n",
              "    </tr>\n",
              "    <tr>\n",
              "      <th>23</th>\n",
              "      <td>7</td>\n",
              "      <td>United Kingdom</td>\n",
              "      <td>GBR</td>\n",
              "      <td>61.9</td>\n",
              "      <td>3417.0</td>\n",
              "      <td>33.274802</td>\n",
              "    </tr>\n",
              "    <tr>\n",
              "      <th>24</th>\n",
              "      <td>8</td>\n",
              "      <td>India</td>\n",
              "      <td>IND</td>\n",
              "      <td>14.9</td>\n",
              "      <td>2427.0</td>\n",
              "      <td>6.098063</td>\n",
              "    </tr>\n",
              "    <tr>\n",
              "      <th>25</th>\n",
              "      <td>8</td>\n",
              "      <td>United States</td>\n",
              "      <td>USA</td>\n",
              "      <td>65.7</td>\n",
              "      <td>3700.0</td>\n",
              "      <td>38.729730</td>\n",
              "    </tr>\n",
              "    <tr>\n",
              "      <th>26</th>\n",
              "      <td>8</td>\n",
              "      <td>United Kingdom</td>\n",
              "      <td>GBR</td>\n",
              "      <td>62.5</td>\n",
              "      <td>3422.0</td>\n",
              "      <td>33.372297</td>\n",
              "    </tr>\n",
              "    <tr>\n",
              "      <th>27</th>\n",
              "      <td>9</td>\n",
              "      <td>United States</td>\n",
              "      <td>USA</td>\n",
              "      <td>66.3</td>\n",
              "      <td>3645.0</td>\n",
              "      <td>37.805213</td>\n",
              "    </tr>\n",
              "    <tr>\n",
              "      <th>28</th>\n",
              "      <td>9</td>\n",
              "      <td>United Kingdom</td>\n",
              "      <td>GBR</td>\n",
              "      <td>63.1</td>\n",
              "      <td>3412.0</td>\n",
              "      <td>33.177022</td>\n",
              "    </tr>\n",
              "    <tr>\n",
              "      <th>29</th>\n",
              "      <td>9</td>\n",
              "      <td>India</td>\n",
              "      <td>IND</td>\n",
              "      <td>15.4</td>\n",
              "      <td>2415.0</td>\n",
              "      <td>5.631470</td>\n",
              "    </tr>\n",
              "    <tr>\n",
              "      <th>30</th>\n",
              "      <td>10</td>\n",
              "      <td>United Kingdom</td>\n",
              "      <td>GBR</td>\n",
              "      <td>63.6</td>\n",
              "      <td>3404.0</td>\n",
              "      <td>33.019976</td>\n",
              "    </tr>\n",
              "    <tr>\n",
              "      <th>31</th>\n",
              "      <td>10</td>\n",
              "      <td>India</td>\n",
              "      <td>IND</td>\n",
              "      <td>15.9</td>\n",
              "      <td>2442.0</td>\n",
              "      <td>6.674857</td>\n",
              "    </tr>\n",
              "    <tr>\n",
              "      <th>32</th>\n",
              "      <td>10</td>\n",
              "      <td>United States</td>\n",
              "      <td>USA</td>\n",
              "      <td>66.9</td>\n",
              "      <td>3650.0</td>\n",
              "      <td>37.890411</td>\n",
              "    </tr>\n",
              "    <tr>\n",
              "      <th>33</th>\n",
              "      <td>11</td>\n",
              "      <td>United Kingdom</td>\n",
              "      <td>GBR</td>\n",
              "      <td>64.2</td>\n",
              "      <td>3417.0</td>\n",
              "      <td>33.274802</td>\n",
              "    </tr>\n",
              "    <tr>\n",
              "      <th>34</th>\n",
              "      <td>11</td>\n",
              "      <td>India</td>\n",
              "      <td>IND</td>\n",
              "      <td>16.4</td>\n",
              "      <td>2455.0</td>\n",
              "      <td>7.169043</td>\n",
              "    </tr>\n",
              "    <tr>\n",
              "      <th>35</th>\n",
              "      <td>11</td>\n",
              "      <td>United States</td>\n",
              "      <td>USA</td>\n",
              "      <td>67.5</td>\n",
              "      <td>3649.0</td>\n",
              "      <td>37.873390</td>\n",
              "    </tr>\n",
              "    <tr>\n",
              "      <th>36</th>\n",
              "      <td>12</td>\n",
              "      <td>United Kingdom</td>\n",
              "      <td>GBR</td>\n",
              "      <td>64.8</td>\n",
              "      <td>3403.0</td>\n",
              "      <td>33.000294</td>\n",
              "    </tr>\n",
              "    <tr>\n",
              "      <th>37</th>\n",
              "      <td>12</td>\n",
              "      <td>India</td>\n",
              "      <td>IND</td>\n",
              "      <td>17.0</td>\n",
              "      <td>2435.0</td>\n",
              "      <td>6.406571</td>\n",
              "    </tr>\n",
              "    <tr>\n",
              "      <th>38</th>\n",
              "      <td>12</td>\n",
              "      <td>United States</td>\n",
              "      <td>USA</td>\n",
              "      <td>68.0</td>\n",
              "      <td>3687.0</td>\n",
              "      <td>38.513697</td>\n",
              "    </tr>\n",
              "    <tr>\n",
              "      <th>39</th>\n",
              "      <td>13</td>\n",
              "      <td>United Kingdom</td>\n",
              "      <td>GBR</td>\n",
              "      <td>65.4</td>\n",
              "      <td>3424.0</td>\n",
              "      <td>33.411215</td>\n",
              "    </tr>\n",
              "    <tr>\n",
              "      <th>40</th>\n",
              "      <td>13</td>\n",
              "      <td>India</td>\n",
              "      <td>IND</td>\n",
              "      <td>17.5</td>\n",
              "      <td>2459.0</td>\n",
              "      <td>7.320049</td>\n",
              "    </tr>\n",
              "    <tr>\n",
              "      <th>41</th>\n",
              "      <td>13</td>\n",
              "      <td>United States</td>\n",
              "      <td>USA</td>\n",
              "      <td>68.6</td>\n",
              "      <td>3682.0</td>\n",
              "      <td>38.430201</td>\n",
              "    </tr>\n",
              "  </tbody>\n",
              "</table>\n",
              "</div>"
            ],
            "text/plain": [
              "    Year in 20xx  ... kcal/person/day% above recommended\n",
              "0              0  ...                          39.627164\n",
              "1              0  ...                          32.183224\n",
              "2              0  ...                           4.243697\n",
              "3              1  ...                          38.845428\n",
              "4              1  ...                          32.941176\n",
              "5              1  ...                           2.314616\n",
              "6              2  ...                          40.074015\n",
              "7              2  ...                          33.255269\n",
              "8              2  ...                           0.262582\n",
              "9              3  ...                          39.978819\n",
              "10             3  ...                          32.941176\n",
              "11             3  ...                           0.131464\n",
              "12             4  ...                          40.483066\n",
              "13             4  ...                          -1.019504\n",
              "14             4  ...                          33.817126\n",
              "15             5  ...                          -0.396476\n",
              "16             5  ...                          40.778474\n",
              "17             5  ...                          33.682373\n",
              "18             6  ...                           2.356470\n",
              "19             6  ...                          40.074015\n",
              "20             6  ...                          33.682373\n",
              "21             7  ...                           5.041667\n",
              "22             7  ...                          39.659303\n",
              "23             7  ...                          33.274802\n",
              "24             8  ...                           6.098063\n",
              "25             8  ...                          38.729730\n",
              "26             8  ...                          33.372297\n",
              "27             9  ...                          37.805213\n",
              "28             9  ...                          33.177022\n",
              "29             9  ...                           5.631470\n",
              "30            10  ...                          33.019976\n",
              "31            10  ...                           6.674857\n",
              "32            10  ...                          37.890411\n",
              "33            11  ...                          33.274802\n",
              "34            11  ...                           7.169043\n",
              "35            11  ...                          37.873390\n",
              "36            12  ...                          33.000294\n",
              "37            12  ...                           6.406571\n",
              "38            12  ...                          38.513697\n",
              "39            13  ...                          33.411215\n",
              "40            13  ...                           7.320049\n",
              "41            13  ...                          38.430201\n",
              "\n",
              "[42 rows x 6 columns]"
            ]
          },
          "metadata": {
            "tags": []
          },
          "execution_count": 8
        }
      ]
    },
    {
      "cell_type": "markdown",
      "metadata": {
        "id": "PlDzmfQOme8o",
        "colab_type": "text"
      },
      "source": [
        "#### Find if people are obese at 18 every year in the graph below"
      ]
    },
    {
      "cell_type": "code",
      "metadata": {
        "id": "XAsO6VxXvTCT",
        "colab_type": "code",
        "colab": {
          "base_uri": "https://localhost:8080/",
          "height": 403
        },
        "outputId": "0bec3626-d206-4b7c-d461-ffc8d2a9198f"
      },
      "source": [
        "plt.figure(figsize=(20,10))\n",
        "sns.catplot(x=\"Year in 20xx\", y=\"Share of adults that are overweight (%)\", kind = \"point\",hue=\"Entity\", palette = \"pastel\", data=result)"
      ],
      "execution_count": null,
      "outputs": [
        {
          "output_type": "execute_result",
          "data": {
            "text/plain": [
              "<seaborn.axisgrid.FacetGrid at 0x7f0cede0a940>"
            ]
          },
          "metadata": {
            "tags": []
          },
          "execution_count": 9
        },
        {
          "output_type": "display_data",
          "data": {
            "text/plain": [
              "<Figure size 1440x720 with 0 Axes>"
            ]
          },
          "metadata": {
            "tags": []
          }
        },
        {
          "output_type": "display_data",
          "data": {
            "image/png": "[encoded data removed]",
            "text/plain": [
              "<Figure size 476.25x360 with 1 Axes>"
            ]
          },
          "metadata": {
            "tags": [],
            "needs_background": "light"
          }
        }
      ]
    },
    {
      "cell_type": "code",
      "metadata": {
        "id": "E6Pl0N2I_gK7",
        "colab_type": "code",
        "colab": {
          "base_uri": "https://localhost:8080/",
          "height": 369
        },
        "outputId": "272238db-38d6-47be-af3d-4fe0f37c6813"
      },
      "source": [
        "sns.catplot(x=\"Year in 20xx\",  y = \"kcal/person/day% above recommended\", kind = \"point\",hue=\"Entity\", palette=\"pastel\", data=result);"
      ],
      "execution_count": null,
      "outputs": [
        {
          "output_type": "display_data",
          "data": {
            "image/png": "[encoded data removed]",
            "text/plain": [
              "<Figure size 476.25x360 with 1 Axes>"
            ]
          },
          "metadata": {
            "tags": [],
            "needs_background": "light"
          }
        }
      ]
    },
    {
      "cell_type": "markdown",
      "metadata": {
        "id": "oo6cf3Malc9D",
        "colab_type": "text"
      },
      "source": [
        "##### From the above graph we can infer that, in the case of India, the % of overweight people keep on increasing even thouhg the colorie intake is not v high in some years. This indicates that more junk food is being consumed even though the colorie intake is low.\n"
      ]
    },
    {
      "cell_type": "markdown",
      "metadata": {
        "id": "OVm9S3a78Dfz",
        "colab_type": "text"
      },
      "source": [
        "# Number of Quick Service Restaurants(QSR) in the us\n",
        "\n",
        "#### source => https://www.statista.com/statistics/217561/number-of-quick-service-restaurant-franchise-establishments-in-the-us/"
      ]
    },
    {
      "cell_type": "code",
      "metadata": {
        "id": "MzmbLeWJ8BtP",
        "colab_type": "code",
        "colab": {
          "base_uri": "https://localhost:8080/",
          "height": 483
        },
        "outputId": "ed4492e4-7e14-4481-f992-4f546319ce72"
      },
      "source": [
        "us_res = {\n",
        "    'Year' : [2007,2008,2009,2010,2011,2012,2013,2014,2015,2016,2017,2018,2019,2020],\n",
        "    'Number of QSR franchise establishments' : [150291, 151887, 150316, 149547, 147902, 151156, 178133, 180717, 183332, 187368, 190649, 194395, 196794, 199549]\n",
        "}\n",
        "us_res = pd.DataFrame(data = us_res)\n",
        "us_res"
      ],
      "execution_count": null,
      "outputs": [
        {
          "output_type": "execute_result",
          "data": {
            "text/html": [
              "<div>\n",
              "<style scoped>\n",
              "    .dataframe tbody tr th:only-of-type {\n",
              "        vertical-align: middle;\n",
              "    }\n",
              "\n",
              "    .dataframe tbody tr th {\n",
              "        vertical-align: top;\n",
              "    }\n",
              "\n",
              "    .dataframe thead th {\n",
              "        text-align: right;\n",
              "    }\n",
              "</style>\n",
              "<table border=\"1\" class=\"dataframe\">\n",
              "  <thead>\n",
              "    <tr style=\"text-align: right;\">\n",
              "      <th></th>\n",
              "      <th>Year</th>\n",
              "      <th>Number of QSR franchise establishments</th>\n",
              "    </tr>\n",
              "  </thead>\n",
              "  <tbody>\n",
              "    <tr>\n",
              "      <th>0</th>\n",
              "      <td>2007</td>\n",
              "      <td>150291</td>\n",
              "    </tr>\n",
              "    <tr>\n",
              "      <th>1</th>\n",
              "      <td>2008</td>\n",
              "      <td>151887</td>\n",
              "    </tr>\n",
              "    <tr>\n",
              "      <th>2</th>\n",
              "      <td>2009</td>\n",
              "      <td>150316</td>\n",
              "    </tr>\n",
              "    <tr>\n",
              "      <th>3</th>\n",
              "      <td>2010</td>\n",
              "      <td>149547</td>\n",
              "    </tr>\n",
              "    <tr>\n",
              "      <th>4</th>\n",
              "      <td>2011</td>\n",
              "      <td>147902</td>\n",
              "    </tr>\n",
              "    <tr>\n",
              "      <th>5</th>\n",
              "      <td>2012</td>\n",
              "      <td>151156</td>\n",
              "    </tr>\n",
              "    <tr>\n",
              "      <th>6</th>\n",
              "      <td>2013</td>\n",
              "      <td>178133</td>\n",
              "    </tr>\n",
              "    <tr>\n",
              "      <th>7</th>\n",
              "      <td>2014</td>\n",
              "      <td>180717</td>\n",
              "    </tr>\n",
              "    <tr>\n",
              "      <th>8</th>\n",
              "      <td>2015</td>\n",
              "      <td>183332</td>\n",
              "    </tr>\n",
              "    <tr>\n",
              "      <th>9</th>\n",
              "      <td>2016</td>\n",
              "      <td>187368</td>\n",
              "    </tr>\n",
              "    <tr>\n",
              "      <th>10</th>\n",
              "      <td>2017</td>\n",
              "      <td>190649</td>\n",
              "    </tr>\n",
              "    <tr>\n",
              "      <th>11</th>\n",
              "      <td>2018</td>\n",
              "      <td>194395</td>\n",
              "    </tr>\n",
              "    <tr>\n",
              "      <th>12</th>\n",
              "      <td>2019</td>\n",
              "      <td>196794</td>\n",
              "    </tr>\n",
              "    <tr>\n",
              "      <th>13</th>\n",
              "      <td>2020</td>\n",
              "      <td>199549</td>\n",
              "    </tr>\n",
              "  </tbody>\n",
              "</table>\n",
              "</div>"
            ],
            "text/plain": [
              "    Year  Number of QSR franchise establishments\n",
              "0   2007                                  150291\n",
              "1   2008                                  151887\n",
              "2   2009                                  150316\n",
              "3   2010                                  149547\n",
              "4   2011                                  147902\n",
              "5   2012                                  151156\n",
              "6   2013                                  178133\n",
              "7   2014                                  180717\n",
              "8   2015                                  183332\n",
              "9   2016                                  187368\n",
              "10  2017                                  190649\n",
              "11  2018                                  194395\n",
              "12  2019                                  196794\n",
              "13  2020                                  199549"
            ]
          },
          "metadata": {
            "tags": []
          },
          "execution_count": 11
        }
      ]
    },
    {
      "cell_type": "markdown",
      "metadata": {
        "id": "pH6KwhVLD1C0",
        "colab_type": "text"
      },
      "source": [
        "###### The number of restaurants can be linked with demad for them because of which there was a sudden increase in 2013 from 2012\n"
      ]
    },
    {
      "cell_type": "code",
      "metadata": {
        "id": "RlNOL6-P-Lem",
        "colab_type": "code",
        "colab": {
          "base_uri": "https://localhost:8080/",
          "height": 351
        },
        "outputId": "ef318eea-435a-4ce9-d59e-5c07986b37c3"
      },
      "source": [
        "plt.figure(figsize=(10,5))\n",
        "sns.pointplot(x = \"Year\", y = \"Number of QSR franchise establishments\", data = us_res)"
      ],
      "execution_count": null,
      "outputs": [
        {
          "output_type": "execute_result",
          "data": {
            "text/plain": [
              "<matplotlib.axes._subplots.AxesSubplot at 0x7f0cede508d0>"
            ]
          },
          "metadata": {
            "tags": []
          },
          "execution_count": 12
        },
        {
          "output_type": "display_data",
          "data": {
            "image/png": "[encoded data removed]",
            "text/plain": [
              "<Figure size 720x360 with 1 Axes>"
            ]
          },
          "metadata": {
            "tags": [],
            "needs_background": "light"
          }
        }
      ]
    },
    {
      "cell_type": "markdown",
      "metadata": {
        "id": "cGjgTG9ALlZ3",
        "colab_type": "text"
      },
      "source": [
        "# Percentage of adults aged 20 and over who consumed fast food on a given day, by sex and age: United States, 2013–2016\n",
        "\n",
        "##### source =>https://www.cdc.gov/nchs/products/databriefs/db322.htm#:~:text=In%202013%E2%80%932016%2C%2036.6%25,adults%20aged%2060%20and%20over.\n",
        "\n"
      ]
    },
    {
      "cell_type": "code",
      "metadata": {
        "id": "94ze10zJEKtU",
        "colab_type": "code",
        "colab": {
          "base_uri": "https://localhost:8080/",
          "height": 403
        },
        "outputId": "76267958-7100-4650-e9e7-dbf06a75abda"
      },
      "source": [
        "ff = pd.read_csv('/content/Percentage of adults aged 20 and over who consumed fast food on a given day, by sex and age.csv')\n",
        "plt.figure(figsize=(20,8))\n",
        "sns.catplot(x = \"sex\", y = \"%\", hue = \"category\", kind = \"bar\", palette=\"ch:.25\",data = ff)"
      ],
      "execution_count": null,
      "outputs": [
        {
          "output_type": "execute_result",
          "data": {
            "text/plain": [
              "<seaborn.axisgrid.FacetGrid at 0x7f0cea096940>"
            ]
          },
          "metadata": {
            "tags": []
          },
          "execution_count": 86
        },
        {
          "output_type": "display_data",
          "data": {
            "text/plain": [
              "<Figure size 1440x576 with 0 Axes>"
            ]
          },
          "metadata": {
            "tags": []
          }
        },
        {
          "output_type": "display_data",
          "data": {
            "image/png": "[encoded data removed]",
            "text/plain": [
              "<Figure size 455.875x360 with 1 Axes>"
            ]
          },
          "metadata": {
            "tags": [],
            "needs_background": "light"
          }
        }
      ]
    }
  ]
}